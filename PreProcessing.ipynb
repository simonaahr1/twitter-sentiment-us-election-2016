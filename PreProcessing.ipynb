{
 "cells": [
  {
   "cell_type": "code",
   "metadata": {},
   "source": [
    "import pandas as pd\n",
    "import nltk\n",
    "nltk.data.path.clear()\n",
    "#add your path\n",
    "nltk.data.path.append(r'')\n",
    "from nltk import pos_tag, word_tokenize\n",
    "nltk.download('omw-1.4')\n",
    "\n",
    "import ssl\n",
    "import fds_utils as utils\n",
    "import importlib\n",
    "_ = importlib.reload(utils)\n",
    "import multiprocessing as mp"
   ],
   "outputs": [],
   "execution_count": null
  },
  {
   "cell_type": "code",
   "metadata": {
    "ExecuteTime": {
     "end_time": "2025-06-07T14:54:01.710352Z",
     "start_time": "2025-06-07T14:54:01.493928Z"
    }
   },
   "source": "tweets = pd.read_pickle(\"data/tweets_sample.pkl\")",
   "outputs": [],
   "execution_count": 2
  },
  {
   "cell_type": "markdown",
   "metadata": {},
   "source": [
    "## Filtering"
   ]
  },
  {
   "cell_type": "markdown",
   "metadata": {},
   "source": [
    "__What is the proportion of non-english tweets? Would it make sense to disregard those tweets?__<br>\n",
    "The 'und' (undefined) language tag is used when a tweet consists only of hashtags / links / emojis, we treat them as english tweets.\n",
    "By selecting all tweets which do not have 'und' or 'en' (english) as a language tag, we see that the proportion of non-english tweets accounts for 3.3 %. Because of this small value it seems reasonable to disregard any non-english tweets. This would simplify the sentiment analysis, where the training would be based only on english text data."
   ]
  },
  {
   "metadata": {
    "ExecuteTime": {
     "end_time": "2025-06-07T14:54:01.725486Z",
     "start_time": "2025-06-07T14:54:01.715405Z"
    }
   },
   "cell_type": "code",
   "source": "tweets.shape",
   "outputs": [
    {
     "data": {
      "text/plain": [
       "(657307, 5)"
      ]
     },
     "execution_count": 3,
     "metadata": {},
     "output_type": "execute_result"
    }
   ],
   "execution_count": 3
  },
  {
   "cell_type": "code",
   "metadata": {
    "ExecuteTime": {
     "end_time": "2025-06-07T14:54:01.914372Z",
     "start_time": "2025-06-07T14:54:01.728486Z"
    }
   },
   "source": [
    "# printing the proportion of tweets that are NOT English and NOT \"undefined\" language.\n",
    "print(round(tweets[(tweets['lang'] != 'und') & (tweets['lang'] != 'en')].size / tweets.size, 4))\n",
    "# Drop all non-english \n",
    "tweets = tweets[(tweets['lang'] == 'und') | (tweets['lang'] == 'en')]\n",
    "tweets = tweets.reset_index(drop=True)"
   ],
   "outputs": [
    {
     "name": "stdout",
     "output_type": "stream",
     "text": [
      "0.0332\n"
     ]
    }
   ],
   "execution_count": 4
  },
  {
   "metadata": {},
   "cell_type": "markdown",
   "source": "Filter out geolocation /= USA"
  },
  {
   "metadata": {
    "ExecuteTime": {
     "end_time": "2025-06-07T14:54:01.961021Z",
     "start_time": "2025-06-07T14:54:01.919373Z"
    }
   },
   "cell_type": "code",
   "source": "print(tweets['country'].value_counts().head(20))",
   "outputs": [
    {
     "name": "stdout",
     "output_type": "stream",
     "text": [
      "country\n",
      "United States     583985\n",
      "Canada             16893\n",
      "United Kingdom      8494\n",
      "Australia           2572\n",
      "India               1536\n",
      "Mexico              1385\n",
      "México              1226\n",
      "Singapore            892\n",
      "Ireland              821\n",
      "Germany              751\n",
      "France               654\n",
      "Japan                622\n",
      "South Africa         618\n",
      "Vietnam              530\n",
      "Estados Unidos       492\n",
      "Deutschland          468\n",
      "New Zealand          466\n",
      "Armenia              465\n",
      "Spain                454\n",
      "Thailand             419\n",
      "Name: count, dtype: int64\n"
     ]
    }
   ],
   "execution_count": 5
  },
  {
   "metadata": {
    "ExecuteTime": {
     "end_time": "2025-06-07T14:54:02.040613Z",
     "start_time": "2025-06-07T14:54:01.965107Z"
    }
   },
   "cell_type": "code",
   "source": [
    "# Filter out non-USA tweets\n",
    "tweets = tweets[tweets['country'] == 'United States'].reset_index(drop=True)\n",
    "print(f\"Number of USA tweets: {tweets.shape[0]}\")"
   ],
   "outputs": [
    {
     "name": "stdout",
     "output_type": "stream",
     "text": [
      "Number of USA tweets: 583985\n"
     ]
    }
   ],
   "execution_count": 6
  },
  {
   "cell_type": "markdown",
   "metadata": {},
   "source": [
    "## Tokenizing\n",
    "The following chapters are partly based on this [tutorial](https://www.digitalocean.com/community/tutorials/how-to-perform-sentiment-analysis-in-python-3-using-the-natural-language-toolkit-nltk#step-1-%E2%80%94-installing-nltk-and-downloading-the-data)."
   ]
  },
  {
   "cell_type": "code",
   "metadata": {
    "ExecuteTime": {
     "end_time": "2025-06-07T14:54:10.121008Z",
     "start_time": "2025-06-07T14:54:02.045613Z"
    }
   },
   "source": [
    "%%time\n",
    "# Seems to be the 'best' tokenizer for tweets data ()\n",
    "tweet_tokenizer = nltk.tokenize.TweetTokenizer()\n",
    "with mp.Pool(mp.cpu_count()) as pool:\n",
    "    tweets['tokens'] = pool.map(tweet_tokenizer.tokenize, tweets['text'])"
   ],
   "outputs": [
    {
     "name": "stdout",
     "output_type": "stream",
     "text": [
      "CPU times: total: 2.38 s\n",
      "Wall time: 8.07 s\n"
     ]
    }
   ],
   "execution_count": 7
  },
  {
   "cell_type": "code",
   "metadata": {
    "ExecuteTime": {
     "end_time": "2025-06-07T14:54:10.136262Z",
     "start_time": "2025-06-07T14:54:10.127151Z"
    }
   },
   "source": [
    "pd.set_option('display.max_colwidth', None)\n",
    "tweets.head()"
   ],
   "outputs": [
    {
     "data": {
      "text/plain": [
       "         date  \\\n",
       "0  2016-08-12   \n",
       "1  2016-08-12   \n",
       "2  2016-08-12   \n",
       "3  2016-08-12   \n",
       "4  2016-08-12   \n",
       "\n",
       "                                                                                                                                           text  \\\n",
       "0                                                                                            @theblaze @realDonaldTrump https://t.co/TY9DlZ584c   \n",
       "1  @BarackObama \\n@FBI\\n@LORETTALYNCH \\nALL IN COLLUSION TOGETHER \\n\\n#NOJUSTICE \\n\\n@realDonaldTrump \\n#TrumpPence \\n\\nhttps://t.co/5GMNZq40V3   \n",
       "2                                                                                            @theblaze @realDonaldTrump https://t.co/n050DBSpv0   \n",
       "3   #CNN #newday clear #Trump deliberately throwing this race,in 2007 he knew that #ISIS and destabilization of Mideast started w/Iraq invasion   \n",
       "4   @realDonaldTrump, you wouldn't recognize a lie if it came from your own mouth, and they do continually. #NeverTrump https://t.co/pKSQM8yikm   \n",
       "\n",
       "  lang        country          city  \\\n",
       "0  und  United States     Frontenac   \n",
       "1   en  United States   Baton Rouge   \n",
       "2  und  United States     Frontenac   \n",
       "3   en  United States     Baltimore   \n",
       "4   en  United States  Palm Springs   \n",
       "\n",
       "                                                                                                                                                                     tokens  \n",
       "0                                                                                                                    [@theblaze, @realDonaldTrump, https://t.co/TY9DlZ584c]  \n",
       "1                                     [@BarackObama, @FBI, @LORETTALYNCH, ALL, IN, COLLUSION, TOGETHER, #NOJUSTICE, @realDonaldTrump, #TrumpPence, https://t.co/5GMNZq40V3]  \n",
       "2                                                                                                                    [@theblaze, @realDonaldTrump, https://t.co/n050DBSpv0]  \n",
       "3  [#CNN, #newday, clear, #Trump, deliberately, throwing, this, race, ,, in, 2007, he, knew, that, #ISIS, and, destabilization, of, Mideast, started, w, /, Iraq, invasion]  \n",
       "4     [@realDonaldTrump, ,, you, wouldn't, recognize, a, lie, if, it, came, from, your, own, mouth, ,, and, they, do, continually, ., #NeverTrump, https://t.co/pKSQM8yikm]  "
      ],
      "text/html": [
       "<div>\n",
       "<style scoped>\n",
       "    .dataframe tbody tr th:only-of-type {\n",
       "        vertical-align: middle;\n",
       "    }\n",
       "\n",
       "    .dataframe tbody tr th {\n",
       "        vertical-align: top;\n",
       "    }\n",
       "\n",
       "    .dataframe thead th {\n",
       "        text-align: right;\n",
       "    }\n",
       "</style>\n",
       "<table border=\"1\" class=\"dataframe\">\n",
       "  <thead>\n",
       "    <tr style=\"text-align: right;\">\n",
       "      <th></th>\n",
       "      <th>date</th>\n",
       "      <th>text</th>\n",
       "      <th>lang</th>\n",
       "      <th>country</th>\n",
       "      <th>city</th>\n",
       "      <th>tokens</th>\n",
       "    </tr>\n",
       "  </thead>\n",
       "  <tbody>\n",
       "    <tr>\n",
       "      <th>0</th>\n",
       "      <td>2016-08-12</td>\n",
       "      <td>@theblaze @realDonaldTrump https://t.co/TY9DlZ584c</td>\n",
       "      <td>und</td>\n",
       "      <td>United States</td>\n",
       "      <td>Frontenac</td>\n",
       "      <td>[@theblaze, @realDonaldTrump, https://t.co/TY9DlZ584c]</td>\n",
       "    </tr>\n",
       "    <tr>\n",
       "      <th>1</th>\n",
       "      <td>2016-08-12</td>\n",
       "      <td>@BarackObama \\n@FBI\\n@LORETTALYNCH \\nALL IN COLLUSION TOGETHER \\n\\n#NOJUSTICE \\n\\n@realDonaldTrump \\n#TrumpPence \\n\\nhttps://t.co/5GMNZq40V3</td>\n",
       "      <td>en</td>\n",
       "      <td>United States</td>\n",
       "      <td>Baton Rouge</td>\n",
       "      <td>[@BarackObama, @FBI, @LORETTALYNCH, ALL, IN, COLLUSION, TOGETHER, #NOJUSTICE, @realDonaldTrump, #TrumpPence, https://t.co/5GMNZq40V3]</td>\n",
       "    </tr>\n",
       "    <tr>\n",
       "      <th>2</th>\n",
       "      <td>2016-08-12</td>\n",
       "      <td>@theblaze @realDonaldTrump https://t.co/n050DBSpv0</td>\n",
       "      <td>und</td>\n",
       "      <td>United States</td>\n",
       "      <td>Frontenac</td>\n",
       "      <td>[@theblaze, @realDonaldTrump, https://t.co/n050DBSpv0]</td>\n",
       "    </tr>\n",
       "    <tr>\n",
       "      <th>3</th>\n",
       "      <td>2016-08-12</td>\n",
       "      <td>#CNN #newday clear #Trump deliberately throwing this race,in 2007 he knew that #ISIS and destabilization of Mideast started w/Iraq invasion</td>\n",
       "      <td>en</td>\n",
       "      <td>United States</td>\n",
       "      <td>Baltimore</td>\n",
       "      <td>[#CNN, #newday, clear, #Trump, deliberately, throwing, this, race, ,, in, 2007, he, knew, that, #ISIS, and, destabilization, of, Mideast, started, w, /, Iraq, invasion]</td>\n",
       "    </tr>\n",
       "    <tr>\n",
       "      <th>4</th>\n",
       "      <td>2016-08-12</td>\n",
       "      <td>@realDonaldTrump, you wouldn't recognize a lie if it came from your own mouth, and they do continually. #NeverTrump https://t.co/pKSQM8yikm</td>\n",
       "      <td>en</td>\n",
       "      <td>United States</td>\n",
       "      <td>Palm Springs</td>\n",
       "      <td>[@realDonaldTrump, ,, you, wouldn't, recognize, a, lie, if, it, came, from, your, own, mouth, ,, and, they, do, continually, ., #NeverTrump, https://t.co/pKSQM8yikm]</td>\n",
       "    </tr>\n",
       "  </tbody>\n",
       "</table>\n",
       "</div>"
      ]
     },
     "execution_count": 8,
     "metadata": {},
     "output_type": "execute_result"
    }
   ],
   "execution_count": 8
  },
  {
   "cell_type": "markdown",
   "metadata": {},
   "source": [
    "## Normalizing\n",
    "From the tutorial: \"Words have different forms—for instance, ran, runs, and running are various forms of the same verb, run. Depending on the requirement of your analysis, all of these versions may need to be converted to the same form, run. Normalization in NLP is the process of converting a word to its canonical form. <br>\n",
    "Two common techniques are stemming and lemmatization. We will use lemmatization because of its higher accuracy in normalizing words correctly. It \"normalizes a word with the context of vocabulary and morphological analysis of words in text\"."
   ]
  },
  {
   "metadata": {},
   "cell_type": "code",
   "source": [
    "nltk.download('stopwords')\n",
    "nltk.download('punkt')\n",
    "nltk.download('wordnet')\n",
    "nltk.download('averaged_perceptron_tagger')\n"
   ],
   "outputs": [],
   "execution_count": null
  },
  {
   "cell_type": "code",
   "metadata": {
    "ExecuteTime": {
     "end_time": "2025-06-07T14:55:04.562814Z",
     "start_time": "2025-06-07T14:54:10.233081Z"
    }
   },
   "source": [
    "\n",
    "with mp.Pool(mp.cpu_count()) as pool:\n",
    "    tweets['tokens_normal'] = pool.map(utils.normalize, tweets['tokens'])"
   ],
   "outputs": [],
   "execution_count": 10
  },
  {
   "cell_type": "code",
   "metadata": {
    "ExecuteTime": {
     "end_time": "2025-06-07T14:55:07.596807Z",
     "start_time": "2025-06-07T14:55:04.568815Z"
    }
   },
   "source": "tweets.to_pickle(\"data/tweets_sample_normalized.pkl\")",
   "outputs": [],
   "execution_count": 11
  },
  {
   "cell_type": "code",
   "metadata": {
    "ExecuteTime": {
     "end_time": "2025-06-07T14:55:07.612803Z",
     "start_time": "2025-06-07T14:55:07.600803Z"
    }
   },
   "source": "tweets",
   "outputs": [
    {
     "data": {
      "text/plain": [
       "              date  \\\n",
       "0       2016-08-12   \n",
       "1       2016-08-12   \n",
       "2       2016-08-12   \n",
       "3       2016-08-12   \n",
       "4       2016-08-12   \n",
       "...            ...   \n",
       "583980  2016-09-12   \n",
       "583981  2016-09-12   \n",
       "583982  2016-09-12   \n",
       "583983  2016-09-12   \n",
       "583984  2016-09-12   \n",
       "\n",
       "                                                                                                                                                text  \\\n",
       "0                                                                                                 @theblaze @realDonaldTrump https://t.co/TY9DlZ584c   \n",
       "1       @BarackObama \\n@FBI\\n@LORETTALYNCH \\nALL IN COLLUSION TOGETHER \\n\\n#NOJUSTICE \\n\\n@realDonaldTrump \\n#TrumpPence \\n\\nhttps://t.co/5GMNZq40V3   \n",
       "2                                                                                                 @theblaze @realDonaldTrump https://t.co/n050DBSpv0   \n",
       "3        #CNN #newday clear #Trump deliberately throwing this race,in 2007 he knew that #ISIS and destabilization of Mideast started w/Iraq invasion   \n",
       "4        @realDonaldTrump, you wouldn't recognize a lie if it came from your own mouth, and they do continually. #NeverTrump https://t.co/pKSQM8yikm   \n",
       "...                                                                                                                                              ...   \n",
       "583980   @CNBC @SquawkAlley @realDonaldTrump Kudlow is on @Morning_Joe tomorrow..What will he say this time? Just another #SwordSwallower for Trump.   \n",
       "583981  TRUMP U, TAXES ,WEIRD MEDICAL REPORT WITH A WHACKED OUT DOCTOR ??? PAY4PLAY FLORIDA AND??MELANIA ILLEGAL ENTERING... https://t.co/2qDahl7A9n   \n",
       "583982   @CarolCNN if MSM were honest watch any utube video of @realDonaldTrump rally to witness full force bigotry,misogyny,xenophobia,&amp; hatred   \n",
       "583983                      It's interesting that Hillary Clinton's crowds are small &amp; yet her polls are polling good ?  https://t.co/lrq2SOOwSO   \n",
       "583984                             @TeamTrump @KellyannePolls @realDonaldTrump @foxandfriends Yep, including the deplorable of which there are many.   \n",
       "\n",
       "       lang        country          city  \\\n",
       "0       und  United States     Frontenac   \n",
       "1        en  United States   Baton Rouge   \n",
       "2       und  United States     Frontenac   \n",
       "3        en  United States     Baltimore   \n",
       "4        en  United States  Palm Springs   \n",
       "...     ...            ...           ...   \n",
       "583980   en  United States       Florida   \n",
       "583981   en  United States     San Diego   \n",
       "583982   en  United States  Coral Gables   \n",
       "583983   en  United States     Fairbanks   \n",
       "583984   en  United States       Florida   \n",
       "\n",
       "                                                                                                                                                                                   tokens  \\\n",
       "0                                                                                                                                  [@theblaze, @realDonaldTrump, https://t.co/TY9DlZ584c]   \n",
       "1                                                   [@BarackObama, @FBI, @LORETTALYNCH, ALL, IN, COLLUSION, TOGETHER, #NOJUSTICE, @realDonaldTrump, #TrumpPence, https://t.co/5GMNZq40V3]   \n",
       "2                                                                                                                                  [@theblaze, @realDonaldTrump, https://t.co/n050DBSpv0]   \n",
       "3                [#CNN, #newday, clear, #Trump, deliberately, throwing, this, race, ,, in, 2007, he, knew, that, #ISIS, and, destabilization, of, Mideast, started, w, /, Iraq, invasion]   \n",
       "4                   [@realDonaldTrump, ,, you, wouldn't, recognize, a, lie, if, it, came, from, your, own, mouth, ,, and, they, do, continually, ., #NeverTrump, https://t.co/pKSQM8yikm]   \n",
       "...                                                                                                                                                                                   ...   \n",
       "583980             [@CNBC, @SquawkAlley, @realDonaldTrump, Kudlow, is, on, @Morning_Joe, tomorrow, .., What, will, he, say, this, time, ?, Just, another, #SwordSwallower, for, Trump, .]   \n",
       "583981  [TRUMP, U, ,, TAXES, ,, WEIRD, MEDICAL, REPORT, WITH, A, WHACKED, OUT, DOCTOR, ?, ?, ?, PAY, 4PLAY, FLORIDA, AND, ?, ?, MELANIA, ILLEGAL, ENTERING, ..., https://t.co/2qDahl7A9n]   \n",
       "583982             [@CarolCNN, if, MSM, were, honest, watch, any, utube, video, of, @realDonaldTrump, rally, to, witness, full, force, bigotry, ,, misogyny, ,, xenophobia, ,, &, hatred]   \n",
       "583983                                              [It's, interesting, that, Hillary, Clinton's, crowds, are, small, &, yet, her, polls, are, polling, good, ?, https://t.co/lrq2SOOwSO]   \n",
       "583984                                                [@TeamTrump, @KellyannePolls, @realDonaldTrump, @foxandfriends, Yep, ,, including, the, deplorable, of, which, there, are, many, .]   \n",
       "\n",
       "                                                                                                                              tokens_normal  \n",
       "0                                                                                                             [@theblaze, @realdonaldtrump]  \n",
       "1                                       [@barackobama, @fbi, @lorettalynch, collusion, together, #nojustice, @realdonaldtrump, #trumppence]  \n",
       "2                                                                                                             [@theblaze, @realdonaldtrump]  \n",
       "3          [#cnn, #newday, clear, #trump, deliberately, throw, race, 2007, know, #isis, destabilization, mideast, start, w, iraq, invasion]  \n",
       "4                                                                 [@realdonaldtrump, recognize, lie, come, mouth, continually, #nevertrump]  \n",
       "...                                                                                                                                     ...  \n",
       "583980              [@cnbc, @squawkalley, @realdonaldtrump, kudlow, @morning_joe, tomorrow, .., say, time, another, #swordswallower, trump]  \n",
       "583981                     [trump, u, taxes, weird, medical, report, whacked, doctor, pay, 4play, florida, melania, illegal, entering, ...]  \n",
       "583982  [@carolcnn, msm, honest, watch, utube, video, @realdonaldtrump, rally, witness, full, force, bigotry, misogyny, xenophobia, hatred]  \n",
       "583983                                                                  [interest, hillary, clinton's, crowd, small, yet, poll, poll, good]  \n",
       "583984                                      [@teamtrump, @kellyannepolls, @realdonaldtrump, @foxandfriends, yep, include, deplorable, many]  \n",
       "\n",
       "[583985 rows x 7 columns]"
      ],
      "text/html": [
       "<div>\n",
       "<style scoped>\n",
       "    .dataframe tbody tr th:only-of-type {\n",
       "        vertical-align: middle;\n",
       "    }\n",
       "\n",
       "    .dataframe tbody tr th {\n",
       "        vertical-align: top;\n",
       "    }\n",
       "\n",
       "    .dataframe thead th {\n",
       "        text-align: right;\n",
       "    }\n",
       "</style>\n",
       "<table border=\"1\" class=\"dataframe\">\n",
       "  <thead>\n",
       "    <tr style=\"text-align: right;\">\n",
       "      <th></th>\n",
       "      <th>date</th>\n",
       "      <th>text</th>\n",
       "      <th>lang</th>\n",
       "      <th>country</th>\n",
       "      <th>city</th>\n",
       "      <th>tokens</th>\n",
       "      <th>tokens_normal</th>\n",
       "    </tr>\n",
       "  </thead>\n",
       "  <tbody>\n",
       "    <tr>\n",
       "      <th>0</th>\n",
       "      <td>2016-08-12</td>\n",
       "      <td>@theblaze @realDonaldTrump https://t.co/TY9DlZ584c</td>\n",
       "      <td>und</td>\n",
       "      <td>United States</td>\n",
       "      <td>Frontenac</td>\n",
       "      <td>[@theblaze, @realDonaldTrump, https://t.co/TY9DlZ584c]</td>\n",
       "      <td>[@theblaze, @realdonaldtrump]</td>\n",
       "    </tr>\n",
       "    <tr>\n",
       "      <th>1</th>\n",
       "      <td>2016-08-12</td>\n",
       "      <td>@BarackObama \\n@FBI\\n@LORETTALYNCH \\nALL IN COLLUSION TOGETHER \\n\\n#NOJUSTICE \\n\\n@realDonaldTrump \\n#TrumpPence \\n\\nhttps://t.co/5GMNZq40V3</td>\n",
       "      <td>en</td>\n",
       "      <td>United States</td>\n",
       "      <td>Baton Rouge</td>\n",
       "      <td>[@BarackObama, @FBI, @LORETTALYNCH, ALL, IN, COLLUSION, TOGETHER, #NOJUSTICE, @realDonaldTrump, #TrumpPence, https://t.co/5GMNZq40V3]</td>\n",
       "      <td>[@barackobama, @fbi, @lorettalynch, collusion, together, #nojustice, @realdonaldtrump, #trumppence]</td>\n",
       "    </tr>\n",
       "    <tr>\n",
       "      <th>2</th>\n",
       "      <td>2016-08-12</td>\n",
       "      <td>@theblaze @realDonaldTrump https://t.co/n050DBSpv0</td>\n",
       "      <td>und</td>\n",
       "      <td>United States</td>\n",
       "      <td>Frontenac</td>\n",
       "      <td>[@theblaze, @realDonaldTrump, https://t.co/n050DBSpv0]</td>\n",
       "      <td>[@theblaze, @realdonaldtrump]</td>\n",
       "    </tr>\n",
       "    <tr>\n",
       "      <th>3</th>\n",
       "      <td>2016-08-12</td>\n",
       "      <td>#CNN #newday clear #Trump deliberately throwing this race,in 2007 he knew that #ISIS and destabilization of Mideast started w/Iraq invasion</td>\n",
       "      <td>en</td>\n",
       "      <td>United States</td>\n",
       "      <td>Baltimore</td>\n",
       "      <td>[#CNN, #newday, clear, #Trump, deliberately, throwing, this, race, ,, in, 2007, he, knew, that, #ISIS, and, destabilization, of, Mideast, started, w, /, Iraq, invasion]</td>\n",
       "      <td>[#cnn, #newday, clear, #trump, deliberately, throw, race, 2007, know, #isis, destabilization, mideast, start, w, iraq, invasion]</td>\n",
       "    </tr>\n",
       "    <tr>\n",
       "      <th>4</th>\n",
       "      <td>2016-08-12</td>\n",
       "      <td>@realDonaldTrump, you wouldn't recognize a lie if it came from your own mouth, and they do continually. #NeverTrump https://t.co/pKSQM8yikm</td>\n",
       "      <td>en</td>\n",
       "      <td>United States</td>\n",
       "      <td>Palm Springs</td>\n",
       "      <td>[@realDonaldTrump, ,, you, wouldn't, recognize, a, lie, if, it, came, from, your, own, mouth, ,, and, they, do, continually, ., #NeverTrump, https://t.co/pKSQM8yikm]</td>\n",
       "      <td>[@realdonaldtrump, recognize, lie, come, mouth, continually, #nevertrump]</td>\n",
       "    </tr>\n",
       "    <tr>\n",
       "      <th>...</th>\n",
       "      <td>...</td>\n",
       "      <td>...</td>\n",
       "      <td>...</td>\n",
       "      <td>...</td>\n",
       "      <td>...</td>\n",
       "      <td>...</td>\n",
       "      <td>...</td>\n",
       "    </tr>\n",
       "    <tr>\n",
       "      <th>583980</th>\n",
       "      <td>2016-09-12</td>\n",
       "      <td>@CNBC @SquawkAlley @realDonaldTrump Kudlow is on @Morning_Joe tomorrow..What will he say this time? Just another #SwordSwallower for Trump.</td>\n",
       "      <td>en</td>\n",
       "      <td>United States</td>\n",
       "      <td>Florida</td>\n",
       "      <td>[@CNBC, @SquawkAlley, @realDonaldTrump, Kudlow, is, on, @Morning_Joe, tomorrow, .., What, will, he, say, this, time, ?, Just, another, #SwordSwallower, for, Trump, .]</td>\n",
       "      <td>[@cnbc, @squawkalley, @realdonaldtrump, kudlow, @morning_joe, tomorrow, .., say, time, another, #swordswallower, trump]</td>\n",
       "    </tr>\n",
       "    <tr>\n",
       "      <th>583981</th>\n",
       "      <td>2016-09-12</td>\n",
       "      <td>TRUMP U, TAXES ,WEIRD MEDICAL REPORT WITH A WHACKED OUT DOCTOR ??? PAY4PLAY FLORIDA AND??MELANIA ILLEGAL ENTERING... https://t.co/2qDahl7A9n</td>\n",
       "      <td>en</td>\n",
       "      <td>United States</td>\n",
       "      <td>San Diego</td>\n",
       "      <td>[TRUMP, U, ,, TAXES, ,, WEIRD, MEDICAL, REPORT, WITH, A, WHACKED, OUT, DOCTOR, ?, ?, ?, PAY, 4PLAY, FLORIDA, AND, ?, ?, MELANIA, ILLEGAL, ENTERING, ..., https://t.co/2qDahl7A9n]</td>\n",
       "      <td>[trump, u, taxes, weird, medical, report, whacked, doctor, pay, 4play, florida, melania, illegal, entering, ...]</td>\n",
       "    </tr>\n",
       "    <tr>\n",
       "      <th>583982</th>\n",
       "      <td>2016-09-12</td>\n",
       "      <td>@CarolCNN if MSM were honest watch any utube video of @realDonaldTrump rally to witness full force bigotry,misogyny,xenophobia,&amp;amp; hatred</td>\n",
       "      <td>en</td>\n",
       "      <td>United States</td>\n",
       "      <td>Coral Gables</td>\n",
       "      <td>[@CarolCNN, if, MSM, were, honest, watch, any, utube, video, of, @realDonaldTrump, rally, to, witness, full, force, bigotry, ,, misogyny, ,, xenophobia, ,, &amp;, hatred]</td>\n",
       "      <td>[@carolcnn, msm, honest, watch, utube, video, @realdonaldtrump, rally, witness, full, force, bigotry, misogyny, xenophobia, hatred]</td>\n",
       "    </tr>\n",
       "    <tr>\n",
       "      <th>583983</th>\n",
       "      <td>2016-09-12</td>\n",
       "      <td>It's interesting that Hillary Clinton's crowds are small &amp;amp; yet her polls are polling good ?  https://t.co/lrq2SOOwSO</td>\n",
       "      <td>en</td>\n",
       "      <td>United States</td>\n",
       "      <td>Fairbanks</td>\n",
       "      <td>[It's, interesting, that, Hillary, Clinton's, crowds, are, small, &amp;, yet, her, polls, are, polling, good, ?, https://t.co/lrq2SOOwSO]</td>\n",
       "      <td>[interest, hillary, clinton's, crowd, small, yet, poll, poll, good]</td>\n",
       "    </tr>\n",
       "    <tr>\n",
       "      <th>583984</th>\n",
       "      <td>2016-09-12</td>\n",
       "      <td>@TeamTrump @KellyannePolls @realDonaldTrump @foxandfriends Yep, including the deplorable of which there are many.</td>\n",
       "      <td>en</td>\n",
       "      <td>United States</td>\n",
       "      <td>Florida</td>\n",
       "      <td>[@TeamTrump, @KellyannePolls, @realDonaldTrump, @foxandfriends, Yep, ,, including, the, deplorable, of, which, there, are, many, .]</td>\n",
       "      <td>[@teamtrump, @kellyannepolls, @realdonaldtrump, @foxandfriends, yep, include, deplorable, many]</td>\n",
       "    </tr>\n",
       "  </tbody>\n",
       "</table>\n",
       "<p>583985 rows × 7 columns</p>\n",
       "</div>"
      ]
     },
     "execution_count": 12,
     "metadata": {},
     "output_type": "execute_result"
    }
   ],
   "execution_count": 12
  },
  {
   "metadata": {
    "ExecuteTime": {
     "end_time": "2025-06-07T14:55:07.627802Z",
     "start_time": "2025-06-07T14:55:07.616805Z"
    }
   },
   "cell_type": "code",
   "source": "",
   "outputs": [],
   "execution_count": null
  }
 ],
 "metadata": {
  "kernelspec": {
   "display_name": "Python 3 (ipykernel)",
   "language": "python",
   "name": "python3"
  },
  "language_info": {
   "codemirror_mode": {
    "name": "ipython",
    "version": 3
   },
   "file_extension": ".py",
   "mimetype": "text/x-python",
   "name": "python",
   "nbconvert_exporter": "python",
   "pygments_lexer": "ipython3",
   "version": "3.8.2"
  }
 },
 "nbformat": 4,
 "nbformat_minor": 4
}
