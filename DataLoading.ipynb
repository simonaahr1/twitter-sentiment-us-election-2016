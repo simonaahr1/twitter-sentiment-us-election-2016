{
 "cells": [
  {
   "cell_type": "code",
   "metadata": {
    "ExecuteTime": {
     "end_time": "2025-06-07T14:51:41.377393Z",
     "start_time": "2025-06-07T14:51:39.776925Z"
    }
   },
   "source": [
    "import os\n",
    "import json\n",
    "import pandas as pd\n",
    "from datetime import datetime\n",
    "import re\n",
    "import fds_utils as utils\n",
    "import importlib\n",
    "_ = importlib.reload(utils)"
   ],
   "outputs": [],
   "execution_count": 1
  },
  {
   "metadata": {},
   "cell_type": "markdown",
   "source": [
    "# Data Loading\n",
    "This section loads the raw Twitter data, extracts relevant columns, and formats it for further analysis"
   ]
  },
  {
   "cell_type": "code",
   "metadata": {
    "ExecuteTime": {
     "end_time": "2025-06-07T14:52:15.318054Z",
     "start_time": "2025-06-07T14:51:41.380395Z"
    }
   },
   "source": [
    "# Load Tweets from JSON Lines\n",
    "tweets_data = []\n",
    "tweets_file = open(\"data/geotagged_tweets_20160812-0912.jsons\", 'r')\n",
    "for line in tweets_file:\n",
    "    try:\n",
    "        tweet = json.loads(line)\n",
    "        tweets_data.append(tweet)\n",
    "    except Exception as e:\n",
    "        print(\"Error: \", e)\n",
    "        continue"
   ],
   "outputs": [],
   "execution_count": 2
  },
  {
   "cell_type": "code",
   "metadata": {
    "ExecuteTime": {
     "end_time": "2025-06-07T14:52:20.417543Z",
     "start_time": "2025-06-07T14:52:15.323123Z"
    }
   },
   "source": [
    "# Extract information and store in a DataFrame\n",
    "# We creates a df with columns for date, text, lang, country, and city.\n",
    "tweets = pd.DataFrame()\n",
    "tweets['date'] = utils.get_data('created_at', tweets_data)\n",
    "#Converts Twitter’s date format into a standard date string (YYYY-MM-DD).\n",
    "tweets['date'] = tweets['date'].apply(lambda x: datetime.strftime(datetime.strptime(x, '%a %b %d %H:%M:%S +0000 %Y'), '%Y-%m-%d'))\n",
    "tweets['text'] = utils.get_data('text', tweets_data)\n",
    "tweets['lang'] = utils.get_data('lang', tweets_data)\n",
    "tweets['country'] = utils.get_data(['place', 'country'], tweets_data)\n",
    "\n",
    "# City is used here as a collective term including towns and villages\n",
    "tweets['city'] = utils.get_data(['place', 'name'], tweets_data)\n"
   ],
   "outputs": [],
   "execution_count": 3
  },
  {
   "metadata": {
    "ExecuteTime": {
     "end_time": "2025-06-07T14:52:20.433211Z",
     "start_time": "2025-06-07T14:52:20.422658Z"
    }
   },
   "cell_type": "code",
   "source": "tweets.shape",
   "outputs": [
    {
     "data": {
      "text/plain": [
       "(657307, 5)"
      ]
     },
     "execution_count": 4,
     "metadata": {},
     "output_type": "execute_result"
    }
   ],
   "execution_count": 4
  },
  {
   "cell_type": "code",
   "metadata": {
    "ExecuteTime": {
     "end_time": "2025-06-07T14:52:20.448210Z",
     "start_time": "2025-06-07T14:52:20.436214Z"
    }
   },
   "source": [
    "pd.set_option('display.max_colwidth', None)\n",
    "tweets.head()"
   ],
   "outputs": [
    {
     "data": {
      "text/plain": [
       "         date  \\\n",
       "0  2016-08-12   \n",
       "1  2016-08-12   \n",
       "2  2016-08-12   \n",
       "3  2016-08-12   \n",
       "4  2016-08-12   \n",
       "\n",
       "                                                                                                                                           text  \\\n",
       "0                                                                                            @theblaze @realDonaldTrump https://t.co/TY9DlZ584c   \n",
       "1  @BarackObama \\n@FBI\\n@LORETTALYNCH \\nALL IN COLLUSION TOGETHER \\n\\n#NOJUSTICE \\n\\n@realDonaldTrump \\n#TrumpPence \\n\\nhttps://t.co/5GMNZq40V3   \n",
       "2                                                                                            @theblaze @realDonaldTrump https://t.co/n050DBSpv0   \n",
       "3                                                           @HillaryClinton he will do in one year all the things you should have done in eight   \n",
       "4   #CNN #newday clear #Trump deliberately throwing this race,in 2007 he knew that #ISIS and destabilization of Mideast started w/Iraq invasion   \n",
       "\n",
       "  lang        country         city  \n",
       "0  und  United States    Frontenac  \n",
       "1   en  United States  Baton Rouge  \n",
       "2  und  United States    Frontenac  \n",
       "3   en      Australia    Melbourne  \n",
       "4   en  United States    Baltimore  "
      ],
      "text/html": [
       "<div>\n",
       "<style scoped>\n",
       "    .dataframe tbody tr th:only-of-type {\n",
       "        vertical-align: middle;\n",
       "    }\n",
       "\n",
       "    .dataframe tbody tr th {\n",
       "        vertical-align: top;\n",
       "    }\n",
       "\n",
       "    .dataframe thead th {\n",
       "        text-align: right;\n",
       "    }\n",
       "</style>\n",
       "<table border=\"1\" class=\"dataframe\">\n",
       "  <thead>\n",
       "    <tr style=\"text-align: right;\">\n",
       "      <th></th>\n",
       "      <th>date</th>\n",
       "      <th>text</th>\n",
       "      <th>lang</th>\n",
       "      <th>country</th>\n",
       "      <th>city</th>\n",
       "    </tr>\n",
       "  </thead>\n",
       "  <tbody>\n",
       "    <tr>\n",
       "      <th>0</th>\n",
       "      <td>2016-08-12</td>\n",
       "      <td>@theblaze @realDonaldTrump https://t.co/TY9DlZ584c</td>\n",
       "      <td>und</td>\n",
       "      <td>United States</td>\n",
       "      <td>Frontenac</td>\n",
       "    </tr>\n",
       "    <tr>\n",
       "      <th>1</th>\n",
       "      <td>2016-08-12</td>\n",
       "      <td>@BarackObama \\n@FBI\\n@LORETTALYNCH \\nALL IN COLLUSION TOGETHER \\n\\n#NOJUSTICE \\n\\n@realDonaldTrump \\n#TrumpPence \\n\\nhttps://t.co/5GMNZq40V3</td>\n",
       "      <td>en</td>\n",
       "      <td>United States</td>\n",
       "      <td>Baton Rouge</td>\n",
       "    </tr>\n",
       "    <tr>\n",
       "      <th>2</th>\n",
       "      <td>2016-08-12</td>\n",
       "      <td>@theblaze @realDonaldTrump https://t.co/n050DBSpv0</td>\n",
       "      <td>und</td>\n",
       "      <td>United States</td>\n",
       "      <td>Frontenac</td>\n",
       "    </tr>\n",
       "    <tr>\n",
       "      <th>3</th>\n",
       "      <td>2016-08-12</td>\n",
       "      <td>@HillaryClinton he will do in one year all the things you should have done in eight</td>\n",
       "      <td>en</td>\n",
       "      <td>Australia</td>\n",
       "      <td>Melbourne</td>\n",
       "    </tr>\n",
       "    <tr>\n",
       "      <th>4</th>\n",
       "      <td>2016-08-12</td>\n",
       "      <td>#CNN #newday clear #Trump deliberately throwing this race,in 2007 he knew that #ISIS and destabilization of Mideast started w/Iraq invasion</td>\n",
       "      <td>en</td>\n",
       "      <td>United States</td>\n",
       "      <td>Baltimore</td>\n",
       "    </tr>\n",
       "  </tbody>\n",
       "</table>\n",
       "</div>"
      ]
     },
     "execution_count": 5,
     "metadata": {},
     "output_type": "execute_result"
    }
   ],
   "execution_count": 5
  },
  {
   "cell_type": "code",
   "metadata": {
    "ExecuteTime": {
     "end_time": "2025-06-07T14:52:21.136392Z",
     "start_time": "2025-06-07T14:52:20.451215Z"
    }
   },
   "source": "tweets.to_pickle(\"data/tweets_sample.pkl\")",
   "outputs": [],
   "execution_count": 6
  },
  {
   "metadata": {
    "ExecuteTime": {
     "end_time": "2025-06-07T14:52:21.151412Z",
     "start_time": "2025-06-07T14:52:21.140409Z"
    }
   },
   "cell_type": "code",
   "source": "",
   "outputs": [],
   "execution_count": null
  }
 ],
 "metadata": {
  "kernelspec": {
   "display_name": ".fds_env",
   "language": "python",
   "name": ".fds_env"
  },
  "language_info": {
   "codemirror_mode": {
    "name": "ipython",
    "version": 3
   },
   "file_extension": ".py",
   "mimetype": "text/x-python",
   "name": "python",
   "nbconvert_exporter": "python",
   "pygments_lexer": "ipython3",
   "version": "3.8.2"
  }
 },
 "nbformat": 4,
 "nbformat_minor": 4
}
